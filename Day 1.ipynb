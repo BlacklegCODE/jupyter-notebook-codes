{
 "cells": [
  {
   "cell_type": "code",
   "execution_count": 12,
   "id": "c7a27249-bea1-48f8-b6ae-c24b5b932ba6",
   "metadata": {},
   "outputs": [
    {
     "data": {
      "text/plain": [
       "'Congrats! You did it!!'"
      ]
     },
     "execution_count": 12,
     "metadata": {},
     "output_type": "execute_result"
    }
   ],
   "source": [
    "u = \"Cnrt!Yuddi!\"\n",
    "l = 'ogas o i t!'\n",
    "\"\".join(i+j for i, j in zip(u,l))"
   ]
  },
  {
   "cell_type": "code",
   "execution_count": 18,
   "id": "90cc2367-eb0c-4bf5-a7ce-82d5b072b3f3",
   "metadata": {},
   "outputs": [
    {
     "name": "stdout",
     "output_type": "stream",
     "text": [
      "I am the best\n"
     ]
    }
   ],
   "source": [
    "print(\"I am the best\")"
   ]
  },
  {
   "cell_type": "code",
   "execution_count": 22,
   "id": "7150421d-602c-4bb0-bfda-a7ae1a168b62",
   "metadata": {},
   "outputs": [],
   "source": [
    "number = 88"
   ]
  },
  {
   "cell_type": "code",
   "execution_count": 19,
   "id": "40db291d-644c-4bfb-b318-4326adecc7cc",
   "metadata": {},
   "outputs": [
    {
     "name": "stdout",
     "output_type": "stream",
     "text": [
      "pran vayu\n"
     ]
    }
   ],
   "source": [
    "print(\"pran vayu\")"
   ]
  },
  {
   "cell_type": "code",
   "execution_count": 23,
   "id": "337033e1-5f64-4110-94b2-e4df200e120c",
   "metadata": {},
   "outputs": [
    {
     "data": {
      "text/plain": [
       "7744"
      ]
     },
     "execution_count": 23,
     "metadata": {},
     "output_type": "execute_result"
    }
   ],
   "source": [
    "number * number"
   ]
  },
  {
   "cell_type": "code",
   "execution_count": null,
   "id": "ba3ee005-bcce-4441-982e-dc2b1f881920",
   "metadata": {},
   "outputs": [],
   "source": [
    "a = \"supercalifragilisticexpialidocious\"\n",
    "print(a*20)"
   ]
  },
  {
   "cell_type": "code",
   "execution_count": 1,
   "id": "332cf3f4-ff16-439f-9395-3dae4bceb944",
   "metadata": {},
   "outputs": [
    {
     "name": "stdout",
     "output_type": "stream",
     "text": [
      "9\n",
      "8\n",
      "7\n",
      "6\n",
      "5\n",
      "4\n",
      "3\n",
      "2\n",
      "1\n"
     ]
    }
   ],
   "source": [
    "num = 10\n",
    "while num>1:\n",
    "    num-=1\n",
    "    print(num)"
   ]
  },
  {
   "cell_type": "code",
   "execution_count": null,
   "id": "54f67d80-3e54-4249-a0aa-a350f55db51a",
   "metadata": {},
   "outputs": [],
   "source": []
  }
 ],
 "metadata": {
  "kernelspec": {
   "display_name": "Python 3 (ipykernel)",
   "language": "python",
   "name": "python3"
  },
  "language_info": {
   "codemirror_mode": {
    "name": "ipython",
    "version": 3
   },
   "file_extension": ".py",
   "mimetype": "text/x-python",
   "name": "python",
   "nbconvert_exporter": "python",
   "pygments_lexer": "ipython3",
   "version": "3.12.5"
  }
 },
 "nbformat": 4,
 "nbformat_minor": 5
}
