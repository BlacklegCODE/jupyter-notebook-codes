{
 "cells": [
  {
   "cell_type": "code",
   "execution_count": 10,
   "id": "bd00a9a9-4453-4510-8927-1a0efcddb3d3",
   "metadata": {},
   "outputs": [],
   "source": [
    "import numpy as np"
   ]
  },
  {
   "cell_type": "code",
   "execution_count": 12,
   "id": "3f11a62a-25e7-4ddf-a93a-f98fa31bb2ff",
   "metadata": {},
   "outputs": [
    {
     "name": "stdin",
     "output_type": "stream",
     "text": [
      "Enter table number : 6\n"
     ]
    }
   ],
   "source": [
    "a = int(input(\"Enter table number :\"))\n",
    "b = a*11\n"
   ]
  },
  {
   "cell_type": "code",
   "execution_count": 13,
   "id": "020d276e-418d-454d-a5cb-8c09d96d9d62",
   "metadata": {},
   "outputs": [],
   "source": [
    "arr = np.arange(a,b,a,dtype = np.int32)"
   ]
  },
  {
   "cell_type": "code",
   "execution_count": 14,
   "id": "d4e8327f-08e0-479f-96aa-215a70fa1ac6",
   "metadata": {},
   "outputs": [
    {
     "name": "stdout",
     "output_type": "stream",
     "text": [
      "[ 6 12 18 24 30 36 42 48 54 60]\n"
     ]
    }
   ],
   "source": [
    "print(arr)"
   ]
  },
  {
   "cell_type": "code",
   "execution_count": null,
   "id": "358209bf-b626-4ea5-b8ab-ca0743943049",
   "metadata": {},
   "outputs": [],
   "source": []
  }
 ],
 "metadata": {
  "kernelspec": {
   "display_name": "Python 3 (ipykernel)",
   "language": "python",
   "name": "python3"
  },
  "language_info": {
   "codemirror_mode": {
    "name": "ipython",
    "version": 3
   },
   "file_extension": ".py",
   "mimetype": "text/x-python",
   "name": "python",
   "nbconvert_exporter": "python",
   "pygments_lexer": "ipython3",
   "version": "3.12.5"
  }
 },
 "nbformat": 4,
 "nbformat_minor": 5
}
